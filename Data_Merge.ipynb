{
 "cells": [
  {
   "cell_type": "code",
   "execution_count": null,
   "metadata": {},
   "outputs": [],
   "source": [
    "import os\n",
    "import pandas as pd\n",
    "import numpy as np\n",
    "import math\n",
    "import matplotlib.pyplot as plt\n",
    "%matplotlib inline\n",
    "cwd=\"/Users/directory\"\n",
    "os.chdir(cwd)\n",
    "files = os.listdir(cwd)\n",
    "df = pd.DataFrame()\n",
    "for file in files:\n",
    "     if file.endswith('.xlsx'):\n",
    "         df = df.append(pd.read_excel(file),ignore_index=True)\n",
    "         df['Date'] = pd.to_datetime(df['Date'], errors='coerce')#Appending all excel files\n",
    "df.to_excel('Append.xlsx')\n",
    "\n",
    "data = pd.read_excel('Append.xlsx',usecols=['A','B','C','D','E','F']) # calling the required columns A,B,C,D,E and F using usecols()"
   ]
  }
 ],
 "metadata": {
  "kernelspec": {
   "display_name": "Python 3",
   "language": "python",
   "name": "python3"
  },
  "language_info": {
   "codemirror_mode": {
    "name": "ipython",
    "version": 3
   },
   "file_extension": ".py",
   "mimetype": "text/x-python",
   "name": "python",
   "nbconvert_exporter": "python",
   "pygments_lexer": "ipython3",
   "version": "3.8.5"
  }
 },
 "nbformat": 4,
 "nbformat_minor": 4
}
